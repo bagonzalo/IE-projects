{
 "metadata": {
  "name": "",
  "signature": "sha256:748cb569e9a452745006acca0fbece897d518abe05be54aa39399a9f137b5418"
 },
 "nbformat": 3,
 "nbformat_minor": 0,
 "worksheets": [
  {
   "cells": [
    {
     "cell_type": "code",
     "collapsed": false,
     "input": [
      "from urllib import urlretrieve\n",
      "import pandas as pd\n",
      "import numpy as np\n",
      "import matplotlib.pyplot as plt\n",
      "import requests as rq\n",
      "import time\n",
      "import json\n",
      "import math\n",
      "import csv\n",
      "\n",
      "# Calculating radio for idealista API query (BBVA tile size: 406m x 555m):\n",
      "r=math.sqrt((406/2)**2+(555/2)**2); print(r) # r=343.8244\n",
      "\n",
      "#request = rq.get('http://www.idealista.com/labs/propertyMap.htm?action=json&distance=5000&center=40.4174,-3.7035&k=6rPBM9BSZJfBd4PPLYJFSbYGUgOPmiOc&operation=rent')\n",
      "#request = rq.get('http://idealista-prod.apigee.net/public/2/search?apikey=6rPBM9BSZJfBd4PPLYJFSbYGUgOPmiOc&country=es&maxItems=50&numPage=1&distance=344&center=43.17,-2.63&propertyType=offices')\n",
      "#d = json.loads(request.text)"
     ],
     "language": "python",
     "metadata": {},
     "outputs": [
      {
       "output_type": "stream",
       "stream": "stdout",
       "text": [
        "343.4210244\n"
       ]
      }
     ],
     "prompt_number": 1
    },
    {
     "cell_type": "code",
     "collapsed": false,
     "input": [
      "str_data = pd.DataFrame(columns=[\"Address\", \"Agency\", \"Exterior\", \"Bathrooms\", \"Condition\", \"Country\", \"Description\", \n",
      "                                     \"Distance\", \"District\",\"favourite\",\"floor\",\"hasVideo\",\"latitude\",\"longitude\", \"municipality\",\n",
      "                                     \"neighborhood\", \"numPhotos\",\"operation\", \"photosUrl\",\"userCode\", \"price\", \"propertyCode\",\n",
      "                                     \"propertyType\", \"propertyTypeCode\",\"province\",\"region\",\"rooms\",\"showAdress\",\"size\", \"subregion\",\n",
      "                                     \"thumbnail\",\"url\"])"
     ],
     "language": "python",
     "metadata": {},
     "outputs": [],
     "prompt_number": 2
    },
    {
     "cell_type": "code",
     "collapsed": false,
     "input": [
      "def add_row(df, apartment, indexx, indexi):\n",
      "    a=apartment['exterior']\n",
      "    b=apartment['address']\n",
      "    c=apartment['agency']\n",
      "    d=apartment['bathrooms']\n",
      "    e=apartment['condition']\n",
      "    f=apartment['country']\n",
      "    g=apartment['description']\n",
      "    h=apartment['distance']\n",
      "    i=apartment['district']\n",
      "    j=apartment['favourite']\n",
      "    k=apartment['floor']\n",
      "    l=apartment['hasVideo']\n",
      "    m=apartment['latitude']\n",
      "    n=apartment['longitude']\n",
      "    o=apartment['municipality']\n",
      "    p=apartment['numPhotos']\n",
      "    q=apartment['operation']\n",
      "    r=apartment['photosUrl']\n",
      "    s=apartment['userCode']\n",
      "    t=apartment['price']\n",
      "    u=apartment['propertyCode']\n",
      "    v=apartment['propertyType']\n",
      "    w=apartment['propertyTypeCode']\n",
      "    x=apartment['province']\n",
      "    y=apartment['region']\n",
      "    ab=apartment['rooms']\n",
      "    ac=apartment['showAddress']\n",
      "    ad=apartment['size']\n",
      "    ae=apartment['subregion']\n",
      "    af=apartment['thumbnail']\n",
      "    ag=apartment['neighborhood']\n",
      "    ah=apartment['url']\n",
      "    index = str(indexi) + '-' + str(indexx)\n",
      "    df.loc[index] = [b, c, a, d, e, f, g, h, i, j, k, l, m, n, o, ag, p, q, r, s, t, u, v, w, x, y, ab, ac, ad, ae, af, ah]\n",
      "    \n"
     ],
     "language": "python",
     "metadata": {},
     "outputs": [],
     "prompt_number": 3
    },
    {
     "cell_type": "code",
     "collapsed": false,
     "input": [
      "import csv\n",
      "with open('locals.csv', 'wb') as csvfile:\n",
      "    writer = csv.writer(csvfile, delimiter=' ')"
     ],
     "language": "python",
     "metadata": {},
     "outputs": [],
     "prompt_number": 4
    },
    {
     "cell_type": "code",
     "collapsed": false,
     "input": [
      "dt = pd.read_csv('td_B.txt', index_col=False, header=0);\n",
      "dt = dt.iloc[:,1:6]\n",
      "j=30\n",
      "lat=dt['clat'][j]; lon=dt['clon'][j]\n",
      "request = rq.get('http://idealista-prod.apigee.net/public/2/search?apikey=6rPBM9BSZJfBd4PPLYJFSbYGUgOPmiOc&country=es&maxItems=50&numPage=1&distance=344&center={},{}&propertyType=commercialproperty'.format(lat, lon))\n",
      "d = json.loads(request.text); d"
     ],
     "language": "python",
     "metadata": {},
     "outputs": [
      {
       "metadata": {},
       "output_type": "pyout",
       "prompt_number": 45,
       "text": [
        "{u'error': u'Invalid value. Accepted values for propertyType are: bedrooms, garages, homes, offices, premises',\n",
        " u'errorCode': 42}"
       ]
      }
     ],
     "prompt_number": 45
    },
    {
     "cell_type": "code",
     "collapsed": false,
     "input": [],
     "language": "python",
     "metadata": {},
     "outputs": [
      {
       "metadata": {},
       "output_type": "pyout",
       "prompt_number": 49,
       "text": [
        "0"
       ]
      }
     ],
     "prompt_number": 49
    },
    {
     "cell_type": "code",
     "collapsed": false,
     "input": [],
     "language": "python",
     "metadata": {},
     "outputs": [],
     "prompt_number": 13
    },
    {
     "cell_type": "code",
     "collapsed": false,
     "input": [],
     "language": "python",
     "metadata": {},
     "outputs": [],
     "prompt_number": 13
    },
    {
     "cell_type": "code",
     "collapsed": false,
     "input": [
      "# Importing tiles centroid coordinates\n",
      "dt = pd.read_csv('td_B.txt', index_col=False, header=0);\n",
      "dt = dt.iloc[:,1:6]"
     ],
     "language": "python",
     "metadata": {},
     "outputs": [],
     "prompt_number": 4
    },
    {
     "cell_type": "code",
     "collapsed": false,
     "input": [],
     "language": "python",
     "metadata": {},
     "outputs": [],
     "prompt_number": 4
    },
    {
     "cell_type": "code",
     "collapsed": false,
     "input": [],
     "language": "python",
     "metadata": {},
     "outputs": [],
     "prompt_number": 4
    },
    {
     "cell_type": "code",
     "collapsed": false,
     "input": [
      "dl=pd.DataFrame()\n",
      "for j in range(0, len(dt)): #len(dt)):\n",
      "    print('j=', j)\n",
      "    # Stopwatch: 10 seconds\n",
      "    now = time.time(); lapse = now + 60\n",
      "    while True: \n",
      "        if time.time() > lapse: break\n",
      "    str_data = pd.DataFrame(columns=[\"Address\", \"Agency\", \"Exterior\", \"Bathrooms\", \"Condition\", \"Country\", \"Description\", \n",
      "                                     \"Distance\", \"District\",\"favourite\",\"floor\",\"hasVideo\",\"latitude\",\"longitude\", \"municipality\",\n",
      "                                     \"neighborhood\", \"numPhotos\",\"operation\", \"photosUrl\",\"userCode\", \"price\", \"propertyCode\",\n",
      "                                     \"propertyType\", \"propertyTypeCode\",\"province\",\"region\",\"rooms\",\"showAdress\",\"size\", \"subregion\",\n",
      "                                     \"thumbnail\",\"url\"])\n",
      "    lat=dt['clat'][j]; lon=dt['clon'][j]\n",
      "    request = rq.get('http://idealista-prod.apigee.net/public/2/search?apikey=6rPBM9BSZJfBd4PPLYJFSbYGUgOPmiOc&country=es&numPage=1&distance=344&center={},{}&propertyType=commercial&property'.format(lat, lon))\n",
      "    d = json.loads(request.text)\n",
      "    now = time.time(); lapse = now + 60\n",
      "    while True: \n",
      "        if time.time() > lapse: break\n",
      "    if d['totalPages']>0:   \n",
      "        for i in range(1, d['totalPages']+1):\n",
      "            request = rq.get('http://idealista-prod.apigee.net/public/2/search?apikey=6rPBM9BSZJfBd4PPLYJFSbYGUgOPmiOc&country=es&distance=344&center={},{}&propertyType=premises&numPage={}'.format(lat, lon, i))\n",
      "            data = json.loads(request.text)\n",
      "            print(len(data['elementList']))\n",
      "            for x in range(len(data['elementList'])):\n",
      "                add_row(str_data, data['elementList'][x], x, i)\n",
      "            now = time.time(); lapse = now + 30\n",
      "            while True: \n",
      "                if time.time() > lapse: break\n",
      "    str_data['tid']=dt.iloc[:,2][j]\n",
      "    dl=dl.append(str_data)\n",
      "    print(len(str_data), len(dl))"
     ],
     "language": "python",
     "metadata": {},
     "outputs": [
      {
       "ename": "KeyError",
       "evalue": "'totalPages'",
       "output_type": "pyerr",
       "traceback": [
        "\u001b[0;31m---------------------------------------------------------------------------\u001b[0m\n\u001b[0;31mKeyError\u001b[0m                                  Traceback (most recent call last)",
        "\u001b[0;32m<ipython-input-40-8e9d7abc652d>\u001b[0m in \u001b[0;36m<module>\u001b[0;34m()\u001b[0m\n\u001b[1;32m     17\u001b[0m     \u001b[0;32mwhile\u001b[0m \u001b[0mTrue\u001b[0m\u001b[0;34m:\u001b[0m\u001b[0;34m\u001b[0m\u001b[0m\n\u001b[1;32m     18\u001b[0m         \u001b[0;32mif\u001b[0m \u001b[0mtime\u001b[0m\u001b[0;34m.\u001b[0m\u001b[0mtime\u001b[0m\u001b[0;34m(\u001b[0m\u001b[0;34m)\u001b[0m \u001b[0;34m>\u001b[0m \u001b[0mlapse\u001b[0m\u001b[0;34m:\u001b[0m \u001b[0;32mbreak\u001b[0m\u001b[0;34m\u001b[0m\u001b[0m\n\u001b[0;32m---> 19\u001b[0;31m     \u001b[0;32mif\u001b[0m \u001b[0md\u001b[0m\u001b[0;34m[\u001b[0m\u001b[0;34m'totalPages'\u001b[0m\u001b[0;34m]\u001b[0m\u001b[0;34m>\u001b[0m\u001b[0;36m0\u001b[0m\u001b[0;34m:\u001b[0m\u001b[0;34m\u001b[0m\u001b[0m\n\u001b[0m\u001b[1;32m     20\u001b[0m         \u001b[0;32mfor\u001b[0m \u001b[0mi\u001b[0m \u001b[0;32min\u001b[0m \u001b[0mrange\u001b[0m\u001b[0;34m(\u001b[0m\u001b[0;36m1\u001b[0m\u001b[0;34m,\u001b[0m \u001b[0md\u001b[0m\u001b[0;34m[\u001b[0m\u001b[0;34m'totalPages'\u001b[0m\u001b[0;34m]\u001b[0m\u001b[0;34m+\u001b[0m\u001b[0;36m1\u001b[0m\u001b[0;34m)\u001b[0m\u001b[0;34m:\u001b[0m\u001b[0;34m\u001b[0m\u001b[0m\n\u001b[1;32m     21\u001b[0m             \u001b[0mrequest\u001b[0m \u001b[0;34m=\u001b[0m \u001b[0mrq\u001b[0m\u001b[0;34m.\u001b[0m\u001b[0mget\u001b[0m\u001b[0;34m(\u001b[0m\u001b[0;34m'http://idealista-prod.apigee.net/public/2/search?apikey=6rPBM9BSZJfBd4PPLYJFSbYGUgOPmiOc&country=es&distance=344&center={},{}&propertyType=premises&numPage={}'\u001b[0m\u001b[0;34m.\u001b[0m\u001b[0mformat\u001b[0m\u001b[0;34m(\u001b[0m\u001b[0mlat\u001b[0m\u001b[0;34m,\u001b[0m \u001b[0mlon\u001b[0m\u001b[0;34m,\u001b[0m \u001b[0mi\u001b[0m\u001b[0;34m)\u001b[0m\u001b[0;34m)\u001b[0m\u001b[0;34m\u001b[0m\u001b[0m\n",
        "\u001b[0;31mKeyError\u001b[0m: 'totalPages'"
       ]
      }
     ],
     "prompt_number": 40
    },
    {
     "cell_type": "heading",
     "level": 2,
     "metadata": {},
     "source": [
      "dl"
     ]
    },
    {
     "cell_type": "code",
     "collapsed": false,
     "input": [
      "request"
     ],
     "language": "python",
     "metadata": {},
     "outputs": [
      {
       "metadata": {},
       "output_type": "pyout",
       "prompt_number": 43,
       "text": [
        "<Response [500]>"
       ]
      }
     ],
     "prompt_number": 43
    },
    {
     "cell_type": "code",
     "collapsed": false,
     "input": [],
     "language": "python",
     "metadata": {},
     "outputs": [],
     "prompt_number": 15
    },
    {
     "cell_type": "code",
     "collapsed": false,
     "input": [
      "import sys    # sys.setdefaultencoding is cancelled by site.py\n",
      "reload(sys)    # to re-enable sys.setdefaultencoding()\n",
      "sys.setdefaultencoding('utf-8')\n",
      "with open('locals_j53_66_p.csv', 'w') as f:\n",
      "    dl.to_csv(f, header=True, index=False)"
     ],
     "language": "python",
     "metadata": {},
     "outputs": [],
     "prompt_number": 39
    },
    {
     "cell_type": "code",
     "collapsed": false,
     "input": [
      "#import csv\n",
      "#dl.to_csv('locals_j43_67_2.csv', header=True, index=False)"
     ],
     "language": "python",
     "metadata": {},
     "outputs": [],
     "prompt_number": 142
    },
    {
     "cell_type": "code",
     "collapsed": false,
     "input": [
      "#from pandas import ExcelWriter\n",
      "\n",
      "#writer = ExcelWriter('locals_j1_25.xlsx')\n",
      "#str_data.to_excel(writer,'Sheet1')\n",
      "#writer.save()"
     ],
     "language": "python",
     "metadata": {},
     "outputs": [
      {
       "ename": "TypeError",
       "evalue": "expected <class 'openpyxl.styles.fonts.Font'>",
       "output_type": "pyerr",
       "traceback": [
        "\u001b[0;31m---------------------------------------------------------------------------\u001b[0m\n\u001b[0;31mTypeError\u001b[0m                                 Traceback (most recent call last)",
        "\u001b[0;32m<ipython-input-95-a32a8ecb9dcd>\u001b[0m in \u001b[0;36m<module>\u001b[0;34m()\u001b[0m\n\u001b[1;32m      2\u001b[0m \u001b[0;34m\u001b[0m\u001b[0m\n\u001b[1;32m      3\u001b[0m \u001b[0mwriter\u001b[0m \u001b[0;34m=\u001b[0m \u001b[0mExcelWriter\u001b[0m\u001b[0;34m(\u001b[0m\u001b[0;34m'locals_j1_25.xlsx'\u001b[0m\u001b[0;34m)\u001b[0m\u001b[0;34m\u001b[0m\u001b[0m\n\u001b[0;32m----> 4\u001b[0;31m \u001b[0mstr_data\u001b[0m\u001b[0;34m.\u001b[0m\u001b[0mto_excel\u001b[0m\u001b[0;34m(\u001b[0m\u001b[0mwriter\u001b[0m\u001b[0;34m,\u001b[0m\u001b[0;34m'Sheet1'\u001b[0m\u001b[0;34m)\u001b[0m\u001b[0;34m\u001b[0m\u001b[0m\n\u001b[0m\u001b[1;32m      5\u001b[0m \u001b[0mwriter\u001b[0m\u001b[0;34m.\u001b[0m\u001b[0msave\u001b[0m\u001b[0;34m(\u001b[0m\u001b[0;34m)\u001b[0m\u001b[0;34m\u001b[0m\u001b[0m\n",
        "\u001b[0;32m/Users/Blanca/Library/Enthought/Canopy_64bit/User/lib/python2.7/site-packages/pandas/util/decorators.pyc\u001b[0m in \u001b[0;36mwrapper\u001b[0;34m(*args, **kwargs)\u001b[0m\n\u001b[1;32m     86\u001b[0m                 \u001b[0;32melse\u001b[0m\u001b[0;34m:\u001b[0m\u001b[0;34m\u001b[0m\u001b[0m\n\u001b[1;32m     87\u001b[0m                     \u001b[0mkwargs\u001b[0m\u001b[0;34m[\u001b[0m\u001b[0mnew_arg_name\u001b[0m\u001b[0;34m]\u001b[0m \u001b[0;34m=\u001b[0m \u001b[0mnew_arg_value\u001b[0m\u001b[0;34m\u001b[0m\u001b[0m\n\u001b[0;32m---> 88\u001b[0;31m             \u001b[0;32mreturn\u001b[0m \u001b[0mfunc\u001b[0m\u001b[0;34m(\u001b[0m\u001b[0;34m*\u001b[0m\u001b[0margs\u001b[0m\u001b[0;34m,\u001b[0m \u001b[0;34m**\u001b[0m\u001b[0mkwargs\u001b[0m\u001b[0;34m)\u001b[0m\u001b[0;34m\u001b[0m\u001b[0m\n\u001b[0m\u001b[1;32m     89\u001b[0m         \u001b[0;32mreturn\u001b[0m \u001b[0mwrapper\u001b[0m\u001b[0;34m\u001b[0m\u001b[0m\n\u001b[1;32m     90\u001b[0m     \u001b[0;32mreturn\u001b[0m \u001b[0m_deprecate_kwarg\u001b[0m\u001b[0;34m\u001b[0m\u001b[0m\n",
        "\u001b[0;32m/Users/Blanca/Library/Enthought/Canopy_64bit/User/lib/python2.7/site-packages/pandas/core/frame.pyc\u001b[0m in \u001b[0;36mto_excel\u001b[0;34m(self, excel_writer, sheet_name, na_rep, float_format, columns, header, index, index_label, startrow, startcol, engine, merge_cells, encoding, inf_rep)\u001b[0m\n\u001b[1;32m   1258\u001b[0m         \u001b[0mformatted_cells\u001b[0m \u001b[0;34m=\u001b[0m \u001b[0mformatter\u001b[0m\u001b[0;34m.\u001b[0m\u001b[0mget_formatted_cells\u001b[0m\u001b[0;34m(\u001b[0m\u001b[0;34m)\u001b[0m\u001b[0;34m\u001b[0m\u001b[0m\n\u001b[1;32m   1259\u001b[0m         excel_writer.write_cells(formatted_cells, sheet_name,\n\u001b[0;32m-> 1260\u001b[0;31m                                  startrow=startrow, startcol=startcol)\n\u001b[0m\u001b[1;32m   1261\u001b[0m         \u001b[0;32mif\u001b[0m \u001b[0mneed_save\u001b[0m\u001b[0;34m:\u001b[0m\u001b[0;34m\u001b[0m\u001b[0m\n\u001b[1;32m   1262\u001b[0m             \u001b[0mexcel_writer\u001b[0m\u001b[0;34m.\u001b[0m\u001b[0msave\u001b[0m\u001b[0;34m(\u001b[0m\u001b[0;34m)\u001b[0m\u001b[0;34m\u001b[0m\u001b[0m\n",
        "\u001b[0;32m/Users/Blanca/Library/Enthought/Canopy_64bit/User/lib/python2.7/site-packages/pandas/io/excel.pyc\u001b[0m in \u001b[0;36mwrite_cells\u001b[0;34m(self, cells, sheet_name, startrow, startcol)\u001b[0m\n\u001b[1;32m    703\u001b[0m \u001b[0;34m\u001b[0m\u001b[0m\n\u001b[1;32m    704\u001b[0m             \u001b[0;32mif\u001b[0m \u001b[0mstyle_kwargs\u001b[0m\u001b[0;34m:\u001b[0m\u001b[0;34m\u001b[0m\u001b[0m\n\u001b[0;32m--> 705\u001b[0;31m                 \u001b[0mxcell\u001b[0m\u001b[0;34m.\u001b[0m\u001b[0mstyle\u001b[0m \u001b[0;34m=\u001b[0m \u001b[0mxcell\u001b[0m\u001b[0;34m.\u001b[0m\u001b[0mstyle\u001b[0m\u001b[0;34m.\u001b[0m\u001b[0mcopy\u001b[0m\u001b[0;34m(\u001b[0m\u001b[0;34m**\u001b[0m\u001b[0mstyle_kwargs\u001b[0m\u001b[0;34m)\u001b[0m\u001b[0;34m\u001b[0m\u001b[0m\n\u001b[0m\u001b[1;32m    706\u001b[0m \u001b[0;34m\u001b[0m\u001b[0m\n\u001b[1;32m    707\u001b[0m             \u001b[0;32mif\u001b[0m \u001b[0mcell\u001b[0m\u001b[0;34m.\u001b[0m\u001b[0mmergestart\u001b[0m \u001b[0;32mis\u001b[0m \u001b[0;32mnot\u001b[0m \u001b[0mNone\u001b[0m \u001b[0;32mand\u001b[0m \u001b[0mcell\u001b[0m\u001b[0;34m.\u001b[0m\u001b[0mmergeend\u001b[0m \u001b[0;32mis\u001b[0m \u001b[0;32mnot\u001b[0m \u001b[0mNone\u001b[0m\u001b[0;34m:\u001b[0m\u001b[0;34m\u001b[0m\u001b[0m\n",
        "\u001b[0;32m/Users/Blanca/Library/Enthought/Canopy_64bit/User/lib/python2.7/site-packages/openpyxl/styles/styleable.pyc\u001b[0m in \u001b[0;36mstyle\u001b[0;34m(self)\u001b[0m\n\u001b[1;32m    105\u001b[0m             \u001b[0malignment\u001b[0m\u001b[0;34m=\u001b[0m\u001b[0mself\u001b[0m\u001b[0;34m.\u001b[0m\u001b[0malignment\u001b[0m\u001b[0;34m,\u001b[0m\u001b[0;34m\u001b[0m\u001b[0m\n\u001b[1;32m    106\u001b[0m             \u001b[0mnumber_format\u001b[0m\u001b[0;34m=\u001b[0m\u001b[0mself\u001b[0m\u001b[0;34m.\u001b[0m\u001b[0mnumber_format\u001b[0m\u001b[0;34m,\u001b[0m\u001b[0;34m\u001b[0m\u001b[0m\n\u001b[0;32m--> 107\u001b[0;31m             \u001b[0mprotection\u001b[0m\u001b[0;34m=\u001b[0m\u001b[0mself\u001b[0m\u001b[0;34m.\u001b[0m\u001b[0mprotection\u001b[0m\u001b[0;34m\u001b[0m\u001b[0m\n\u001b[0m\u001b[1;32m    108\u001b[0m         )\n\u001b[1;32m    109\u001b[0m \u001b[0;34m\u001b[0m\u001b[0m\n",
        "\u001b[0;32m/Users/Blanca/Library/Enthought/Canopy_64bit/User/lib/python2.7/site-packages/openpyxl/styles/__init__.pyc\u001b[0m in \u001b[0;36m__init__\u001b[0;34m(self, font, fill, border, alignment, number_format, protection)\u001b[0m\n\u001b[1;32m     40\u001b[0m                  \u001b[0mprotection\u001b[0m\u001b[0;34m=\u001b[0m\u001b[0mProtection\u001b[0m\u001b[0;34m(\u001b[0m\u001b[0;34m)\u001b[0m\u001b[0;34m\u001b[0m\u001b[0m\n\u001b[1;32m     41\u001b[0m                  ):\n\u001b[0;32m---> 42\u001b[0;31m         \u001b[0mself\u001b[0m\u001b[0;34m.\u001b[0m\u001b[0m_font\u001b[0m \u001b[0;34m=\u001b[0m \u001b[0mfont\u001b[0m\u001b[0;34m\u001b[0m\u001b[0m\n\u001b[0m\u001b[1;32m     43\u001b[0m         \u001b[0mself\u001b[0m\u001b[0;34m.\u001b[0m\u001b[0m_fill\u001b[0m \u001b[0;34m=\u001b[0m \u001b[0mfill\u001b[0m\u001b[0;34m\u001b[0m\u001b[0m\n\u001b[1;32m     44\u001b[0m         \u001b[0mself\u001b[0m\u001b[0;34m.\u001b[0m\u001b[0m_border\u001b[0m \u001b[0;34m=\u001b[0m \u001b[0mborder\u001b[0m\u001b[0;34m\u001b[0m\u001b[0m\n",
        "\u001b[0;32m/Users/Blanca/Library/Enthought/Canopy_64bit/User/lib/python2.7/site-packages/openpyxl/descriptors/base.pyc\u001b[0m in \u001b[0;36m__set__\u001b[0;34m(self, instance, value)\u001b[0m\n\u001b[1;32m     33\u001b[0m             if (not self.allow_none\n\u001b[1;32m     34\u001b[0m                 or (self.allow_none and value is not None)):\n\u001b[0;32m---> 35\u001b[0;31m                 \u001b[0;32mraise\u001b[0m \u001b[0mTypeError\u001b[0m\u001b[0;34m(\u001b[0m\u001b[0;34m'expected '\u001b[0m \u001b[0;34m+\u001b[0m \u001b[0mstr\u001b[0m\u001b[0;34m(\u001b[0m\u001b[0mself\u001b[0m\u001b[0;34m.\u001b[0m\u001b[0mexpected_type\u001b[0m\u001b[0;34m)\u001b[0m\u001b[0;34m)\u001b[0m\u001b[0;34m\u001b[0m\u001b[0m\n\u001b[0m\u001b[1;32m     36\u001b[0m         \u001b[0msuper\u001b[0m\u001b[0;34m(\u001b[0m\u001b[0mTyped\u001b[0m\u001b[0;34m,\u001b[0m \u001b[0mself\u001b[0m\u001b[0;34m)\u001b[0m\u001b[0;34m.\u001b[0m\u001b[0m__set__\u001b[0m\u001b[0;34m(\u001b[0m\u001b[0minstance\u001b[0m\u001b[0;34m,\u001b[0m \u001b[0mvalue\u001b[0m\u001b[0;34m)\u001b[0m\u001b[0;34m\u001b[0m\u001b[0m\n\u001b[1;32m     37\u001b[0m \u001b[0;34m\u001b[0m\u001b[0m\n",
        "\u001b[0;31mTypeError\u001b[0m: expected <class 'openpyxl.styles.fonts.Font'>"
       ]
      }
     ],
     "prompt_number": 95
    },
    {
     "cell_type": "code",
     "collapsed": false,
     "input": [],
     "language": "python",
     "metadata": {},
     "outputs": [],
     "prompt_number": 55
    },
    {
     "cell_type": "code",
     "collapsed": false,
     "input": [],
     "language": "python",
     "metadata": {},
     "outputs": [],
     "prompt_number": 18
    },
    {
     "cell_type": "code",
     "collapsed": false,
     "input": [],
     "language": "python",
     "metadata": {},
     "outputs": []
    }
   ],
   "metadata": {}
  }
 ]
}